{
 "cells": [
  {
   "cell_type": "code",
   "execution_count": 1,
   "metadata": {},
   "outputs": [],
   "source": [
    "import pandas as pd\n",
    "\n",
    "ratings = pd.read_csv(\"../data/ml-100k/u.data\", delimiter=\"\\t\",names=[\"user_id\", \"item_id\", \"rating\", \"timestamp\"])\n"
   ]
  },
  {
   "cell_type": "code",
   "execution_count": 2,
   "metadata": {},
   "outputs": [],
   "source": [
    "users = pd.read_csv(\"../data/ml-100k/u.user\", delimiter=\"|\", names=[\"user_id\", \"age\", \"gender\", \"occupation\", \"zip_code\"])\n"
   ]
  },
  {
   "cell_type": "code",
   "execution_count": 3,
   "metadata": {},
   "outputs": [],
   "source": [
    "\n",
    "genres = pd.read_csv(\"../data/ml-100k/u.genre\", delimiter=\"|\", names=[\"name\", \"genre_id\"])"
   ]
  },
  {
   "cell_type": "code",
   "execution_count": 4,
   "metadata": {},
   "outputs": [],
   "source": [
    "items = []\n",
    "with open(\"../data/ml-100k/u.item\", \"rb\") as f:\n",
    "    for line in f.readlines():\n",
    "        try:\n",
    "            line = line.decode()\n",
    "        except:\n",
    "            line = line.decode('iso-8859-1')\n",
    "        items.append(line[:-1].split(\"|\"))\n",
    "items = pd.DataFrame(items, columns=[\"movie_id\", \"movie_title\", \"release_date\", \"video_release_date\", \"imdb_url\"] + list(genres.name))"
   ]
  },
  {
   "cell_type": "code",
   "execution_count": 5,
   "metadata": {},
   "outputs": [],
   "source": [
    "# items\n",
    "def date_to_year(date):\n",
    "    if not date:\n",
    "        return None\n",
    "    return int(date.split(\"-\")[-1])\n",
    "\n",
    "items[\"release_year\"] = items[\"release_date\"].map(date_to_year)\n",
    "del items[\"release_date\"]\n",
    "del items[\"video_release_date\"]\n",
    "del items[\"imdb_url\"]"
   ]
  },
  {
   "cell_type": "code",
   "execution_count": 7,
   "metadata": {},
   "outputs": [],
   "source": [
    "items.to_csv(\"../data/interim/items.csv\", index=False)"
   ]
  },
  {
   "cell_type": "code",
   "execution_count": null,
   "metadata": {},
   "outputs": [],
   "source": [
    "users.gender.unique()\n",
    "users[\"male\"] = users.gender == \"M\"\n",
    "users[\"female\"] = users.gender == \"F\"\n",
    "del users[\"gender\"]\n",
    "occupations = users.occupation.unique()\n",
    "for i in occupations:\n",
    "    users[\"occupation_\" + i] = users.occupation == i\n",
    "del users[\"occupation\"]"
   ]
  },
  {
   "cell_type": "code",
   "execution_count": null,
   "metadata": {},
   "outputs": [],
   "source": [
    "users.to_csv(\"../data/interim/users.csv\", index=False)"
   ]
  },
  {
   "cell_type": "code",
   "execution_count": null,
   "metadata": {},
   "outputs": [],
   "source": [
    "\n",
    "del ratings[\"timestamp\"]\n",
    "ratings.to_csv(\"../data/interim/ratings.csv\", index=False)"
   ]
  }
 ],
 "metadata": {
  "kernelspec": {
   "display_name": "Python 3",
   "language": "python",
   "name": "python3"
  },
  "language_info": {
   "codemirror_mode": {
    "name": "ipython",
    "version": 3
   },
   "file_extension": ".py",
   "mimetype": "text/x-python",
   "name": "python",
   "nbconvert_exporter": "python",
   "pygments_lexer": "ipython3",
   "version": "3.9.11"
  }
 },
 "nbformat": 4,
 "nbformat_minor": 2
}
